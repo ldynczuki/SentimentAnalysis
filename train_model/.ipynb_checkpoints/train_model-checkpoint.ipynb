{
 "cells": [
  {
   "cell_type": "markdown",
   "metadata": {},
   "source": [
    "Repositório do modelo BERT pré-treinado da **neuralmind.ia** para a língua portuguesa\n",
    "\n",
    "https://github.com/neuralmind-ai/portuguese-bert"
   ]
  },
  {
   "cell_type": "markdown",
   "metadata": {},
   "source": [
    "# **1. Bibliotecas requeridas**"
   ]
  },
  {
   "cell_type": "code",
   "execution_count": null,
   "metadata": {},
   "outputs": [],
   "source": [
    "import warnings\n",
    "import pandas as pd\n",
    "import logging\n",
    "import re\n",
    "import numpy as np\n",
    "import seaborn as sns\n",
    "\n",
    "logging.basicConfig(level=logging.INFO)\n",
    "transformers_logger = logging.getLogger(\"transformers\")\n",
    "transformers_logger.setLevel(logging.WARNING)\n",
    "\n",
    "from simpletransformers.classification import ClassificationModel\n",
    "\n",
    "from sklearn.model_selection import train_test_split\n",
    "from sklearn.model_selection import KFold\n",
    "from sklearn.metrics import accuracy_score as acc\n",
    "from sklearn.metrics import precision_score as pr\n",
    "from sklearn.metrics import recall_score as rec\n",
    "from sklearn.metrics import f1_score as f1\n",
    "from sklearn.metrics import roc_auc_score as auc \n",
    "from sklearn.metrics import confusion_matrix\n",
    "from sklearn.metrics import classification_report\n",
    "\n",
    "warnings.filterwarnings('ignore')\n",
    "warnings.simplefilter('ignore')"
   ]
  },
  {
   "cell_type": "markdown",
   "metadata": {},
   "source": [
    "# **2. Leitura do Dataset**"
   ]
  },
  {
   "cell_type": "code",
   "execution_count": 42,
   "metadata": {},
   "outputs": [],
   "source": [
    "prefix_path = '/home/lucas/sentiment-analysis/'"
   ]
  },
  {
   "cell_type": "code",
   "execution_count": 46,
   "metadata": {},
   "outputs": [],
   "source": [
    "prefix_path = '/home/lucas/Documentos/Cursos/Pos-Graduacao/PUC_MG/TCC/code/sentiment-analysis/'"
   ]
  },
  {
   "cell_type": "code",
   "execution_count": 47,
   "metadata": {},
   "outputs": [],
   "source": [
    "# Cria o dataframe com os datasets já concatenados\n",
    "df_datasets = pd.read_csv(prefix_path + 'datasets/dataset_concat.csv', sep = ';', encoding = 'utf-8')\n",
    "\n",
    "# transforma os dados da coluna \"text\" para string\n",
    "df_datasets['text'] = df_datasets['text'].astype(str)"
   ]
  },
  {
   "cell_type": "code",
   "execution_count": 48,
   "metadata": {},
   "outputs": [
    {
     "name": "stdout",
     "output_type": "stream",
     "text": [
      "<class 'pandas.core.frame.DataFrame'>\n",
      "RangeIndex: 68461 entries, 0 to 68460\n",
      "Data columns (total 2 columns):\n",
      "text      68461 non-null object\n",
      "labels    68456 non-null object\n",
      "dtypes: object(2)\n",
      "memory usage: 1.0+ MB\n"
     ]
    }
   ],
   "source": [
    "# Verifica a quantidade de amostras no df_datasets\n",
    "df_datasets.info()"
   ]
  },
  {
   "cell_type": "code",
   "execution_count": 49,
   "metadata": {},
   "outputs": [
    {
     "data": {
      "text/plain": [
       "3"
      ]
     },
     "execution_count": 49,
     "metadata": {},
     "output_type": "execute_result"
    }
   ],
   "source": [
    "# Verifica a quantidade de registros únicos para a coluna \"labels\"\n",
    "df_datasets['labels'].nunique()"
   ]
  },
  {
   "cell_type": "code",
   "execution_count": 50,
   "metadata": {},
   "outputs": [
    {
     "data": {
      "text/plain": [
       "array(['Neutro', 'Positivo', 'Negativo', nan], dtype=object)"
      ]
     },
     "execution_count": 50,
     "metadata": {},
     "output_type": "execute_result"
    }
   ],
   "source": [
    "# Verifica quais são os registros únicos para a coluna \"labels\"\n",
    "df_datasets.labels.unique()"
   ]
  },
  {
   "cell_type": "markdown",
   "metadata": {},
   "source": [
    "# **3. Pré-processamento dos dados** "
   ]
  },
  {
   "cell_type": "code",
   "execution_count": 15,
   "metadata": {},
   "outputs": [],
   "source": [
    "# Descarta as amostras que possuem a label \"Neutro\"\n",
    "df_datasets = df_datasets[df_datasets.labels != 'Neutro']\n",
    "\n",
    "# Remove os registros que possuem o valor \"null\" para a coluna \"labels\"\n",
    "df_datasets = df_datasets[df_datasets.labels.notnull()]"
   ]
  },
  {
   "cell_type": "code",
   "execution_count": 16,
   "metadata": {},
   "outputs": [
    {
     "data": {
      "text/plain": [
       "array(['Positivo', 'Negativo'], dtype=object)"
      ]
     },
     "execution_count": 16,
     "metadata": {},
     "output_type": "execute_result"
    }
   ],
   "source": [
    "# Verificando quais são os registros únicos após a remoção do valor \"Neutro\"\n",
    "df_datasets.labels.unique()"
   ]
  },
  {
   "cell_type": "code",
   "execution_count": 17,
   "metadata": {},
   "outputs": [
    {
     "data": {
      "text/plain": [
       "Negativo    25941\n",
       "Positivo    19389\n",
       "Name: labels, dtype: int64"
      ]
     },
     "execution_count": 17,
     "metadata": {},
     "output_type": "execute_result"
    }
   ],
   "source": [
    "# Verificando a quantidade de amostras por classe (labels)\n",
    "df_datasets['labels'].value_counts()"
   ]
  },
  {
   "cell_type": "code",
   "execution_count": 22,
   "metadata": {},
   "outputs": [],
   "source": [
    "# Reiniciando os índices após a exclusão nos passos anteriores\n",
    "df_datasets.reset_index(drop=True, inplace=True)"
   ]
  },
  {
   "cell_type": "markdown",
   "metadata": {},
   "source": [
    "#### **3.1. Substituição dos valores \"Positivo\" e \"Negativo\" para 0 e 1, respectivamente.**"
   ]
  },
  {
   "cell_type": "code",
   "execution_count": 23,
   "metadata": {},
   "outputs": [],
   "source": [
    "df_datasets['labels'].replace(to_replace=['Positivo'], value=0, inplace=True)\n",
    "df_datasets['labels'].replace(to_replace=['Negativo'], value=1, inplace=True)"
   ]
  },
  {
   "cell_type": "code",
   "execution_count": 24,
   "metadata": {},
   "outputs": [
    {
     "data": {
      "text/html": [
       "<div>\n",
       "<style scoped>\n",
       "    .dataframe tbody tr th:only-of-type {\n",
       "        vertical-align: middle;\n",
       "    }\n",
       "\n",
       "    .dataframe tbody tr th {\n",
       "        vertical-align: top;\n",
       "    }\n",
       "\n",
       "    .dataframe thead th {\n",
       "        text-align: right;\n",
       "    }\n",
       "</style>\n",
       "<table border=\"1\" class=\"dataframe\">\n",
       "  <thead>\n",
       "    <tr style=\"text-align: right;\">\n",
       "      <th></th>\n",
       "      <th>text</th>\n",
       "      <th>labels</th>\n",
       "    </tr>\n",
       "  </thead>\n",
       "  <tbody>\n",
       "    <tr>\n",
       "      <td>0</td>\n",
       "      <td>Parem de olhar para o meu telemovel quando est...</td>\n",
       "      <td>0</td>\n",
       "    </tr>\n",
       "    <tr>\n",
       "      <td>1</td>\n",
       "      <td>RT @fabionaoseique: http://t.co/cAajp1yqbD Est...</td>\n",
       "      <td>0</td>\n",
       "    </tr>\n",
       "    <tr>\n",
       "      <td>2</td>\n",
       "      <td>Gostei de um vídeo do @YouTube http://t.co/PQW...</td>\n",
       "      <td>0</td>\n",
       "    </tr>\n",
       "    <tr>\n",
       "      <td>3</td>\n",
       "      <td>É indigno e vergonhoso corte das pensões de so...</td>\n",
       "      <td>1</td>\n",
       "    </tr>\n",
       "    <tr>\n",
       "      <td>4</td>\n",
       "      <td>Atenção!!!\\r\\nCozinheiros, chefes, apreciadore...</td>\n",
       "      <td>0</td>\n",
       "    </tr>\n",
       "  </tbody>\n",
       "</table>\n",
       "</div>"
      ],
      "text/plain": [
       "                                                text  labels\n",
       "0  Parem de olhar para o meu telemovel quando est...       0\n",
       "1  RT @fabionaoseique: http://t.co/cAajp1yqbD Est...       0\n",
       "2  Gostei de um vídeo do @YouTube http://t.co/PQW...       0\n",
       "3  É indigno e vergonhoso corte das pensões de so...       1\n",
       "4  Atenção!!!\\r\\nCozinheiros, chefes, apreciadore...       0"
      ]
     },
     "execution_count": 24,
     "metadata": {},
     "output_type": "execute_result"
    }
   ],
   "source": [
    "df_datasets.head()"
   ]
  },
  {
   "cell_type": "markdown",
   "metadata": {},
   "source": [
    "#### **3.2. Divisão do dataset para bases de treino e teste**"
   ]
  },
  {
   "cell_type": "code",
   "execution_count": 25,
   "metadata": {},
   "outputs": [],
   "source": [
    "train, test = train_test_split(df_datasets, test_size=0.30, \n",
    "                               random_state=42, shuffle=True)"
   ]
  },
  {
   "cell_type": "code",
   "execution_count": 26,
   "metadata": {},
   "outputs": [],
   "source": [
    "train.reset_index(drop=True, inplace=True)\n",
    "test.reset_index(drop=True, inplace=True)"
   ]
  },
  {
   "cell_type": "code",
   "execution_count": 27,
   "metadata": {},
   "outputs": [
    {
     "name": "stdout",
     "output_type": "stream",
     "text": [
      "<class 'pandas.core.frame.DataFrame'>\n",
      "RangeIndex: 31731 entries, 0 to 31730\n",
      "Data columns (total 2 columns):\n",
      "text      31731 non-null object\n",
      "labels    31731 non-null int64\n",
      "dtypes: int64(1), object(1)\n",
      "memory usage: 495.9+ KB\n"
     ]
    }
   ],
   "source": [
    "train.info()"
   ]
  },
  {
   "cell_type": "code",
   "execution_count": 28,
   "metadata": {},
   "outputs": [
    {
     "name": "stdout",
     "output_type": "stream",
     "text": [
      "<class 'pandas.core.frame.DataFrame'>\n",
      "RangeIndex: 13599 entries, 0 to 13598\n",
      "Data columns (total 2 columns):\n",
      "text      13599 non-null object\n",
      "labels    13599 non-null int64\n",
      "dtypes: int64(1), object(1)\n",
      "memory usage: 212.6+ KB\n"
     ]
    }
   ],
   "source": [
    "test.info()"
   ]
  },
  {
   "cell_type": "markdown",
   "metadata": {},
   "source": [
    "#### **3.3. Exportando as bases de treino e teste após a execução das etapas anteriores**"
   ]
  },
  {
   "cell_type": "code",
   "execution_count": 34,
   "metadata": {},
   "outputs": [],
   "source": [
    "train.to_csv(prefix_path + '/datasets/treino.csv', header=True, index=False, sep=';', encoding='utf-8')\n",
    "test.to_csv(prefix_path + '/datasets/teste.csv', header=True, index=False, sep=';', encoding='utf-8')"
   ]
  },
  {
   "cell_type": "markdown",
   "metadata": {},
   "source": [
    "#### **3.4. Importando as bases que foram exportadas na etapa anterior**"
   ]
  },
  {
   "cell_type": "code",
   "execution_count": 35,
   "metadata": {},
   "outputs": [],
   "source": [
    "df_treino = pd.read_csv(prefix_path + '/datasets/treino.csv', sep=';', encoding='utf-8')"
   ]
  },
  {
   "cell_type": "code",
   "execution_count": 36,
   "metadata": {},
   "outputs": [
    {
     "data": {
      "text/plain": [
       "1    18139\n",
       "0    13592\n",
       "Name: labels, dtype: int64"
      ]
     },
     "execution_count": 36,
     "metadata": {},
     "output_type": "execute_result"
    }
   ],
   "source": [
    "df_treino['labels'].value_counts()"
   ]
  },
  {
   "cell_type": "markdown",
   "metadata": {},
   "source": [
    "#### **3.5. Criando um novo dataframe com as classes balanceadas**\n",
    "\n",
    "Utilizando o método groupby e aplicando uma função lambda para capturar a quantidade limitada de 13000 amostras por classe."
   ]
  },
  {
   "cell_type": "code",
   "execution_count": 37,
   "metadata": {},
   "outputs": [],
   "source": [
    "n_samples = 13000\n",
    "new_df_treino = df_treino.groupby('labels').apply(lambda x: x.sample(n=n_samples)).reset_index(drop = True)"
   ]
  },
  {
   "cell_type": "code",
   "execution_count": 38,
   "metadata": {},
   "outputs": [
    {
     "data": {
      "text/html": [
       "<div>\n",
       "<style scoped>\n",
       "    .dataframe tbody tr th:only-of-type {\n",
       "        vertical-align: middle;\n",
       "    }\n",
       "\n",
       "    .dataframe tbody tr th {\n",
       "        vertical-align: top;\n",
       "    }\n",
       "\n",
       "    .dataframe thead th {\n",
       "        text-align: right;\n",
       "    }\n",
       "</style>\n",
       "<table border=\"1\" class=\"dataframe\">\n",
       "  <thead>\n",
       "    <tr style=\"text-align: right;\">\n",
       "      <th></th>\n",
       "      <th>text</th>\n",
       "      <th>labels</th>\n",
       "    </tr>\n",
       "  </thead>\n",
       "  <tbody>\n",
       "    <tr>\n",
       "      <td>0</td>\n",
       "      <td>Poucas são as mulheres que me fazem soltar um ...</td>\n",
       "      <td>0</td>\n",
       "    </tr>\n",
       "    <tr>\n",
       "      <td>1</td>\n",
       "      <td>E já tenho o meu Galaxy Star. É lindo como tudo!</td>\n",
       "      <td>0</td>\n",
       "    </tr>\n",
       "    <tr>\n",
       "      <td>2</td>\n",
       "      <td>umas ferias de 1 mes ou 2 vinham mesmo a calha...</td>\n",
       "      <td>0</td>\n",
       "    </tr>\n",
       "    <tr>\n",
       "      <td>3</td>\n",
       "      <td>@AgostinhoIsabel espero bem que sim!</td>\n",
       "      <td>0</td>\n",
       "    </tr>\n",
       "    <tr>\n",
       "      <td>4</td>\n",
       "      <td>RT @agenciabrasil: Rio distribui vacinas contr...</td>\n",
       "      <td>0</td>\n",
       "    </tr>\n",
       "  </tbody>\n",
       "</table>\n",
       "</div>"
      ],
      "text/plain": [
       "                                                text  labels\n",
       "0  Poucas são as mulheres que me fazem soltar um ...       0\n",
       "1   E já tenho o meu Galaxy Star. É lindo como tudo!       0\n",
       "2  umas ferias de 1 mes ou 2 vinham mesmo a calha...       0\n",
       "3               @AgostinhoIsabel espero bem que sim!       0\n",
       "4  RT @agenciabrasil: Rio distribui vacinas contr...       0"
      ]
     },
     "execution_count": 38,
     "metadata": {},
     "output_type": "execute_result"
    }
   ],
   "source": [
    "new_df_treino.head()"
   ]
  },
  {
   "cell_type": "markdown",
   "metadata": {},
   "source": [
    "#### **3.6. Removendo Links e URLS**"
   ]
  },
  {
   "cell_type": "code",
   "execution_count": 39,
   "metadata": {},
   "outputs": [],
   "source": [
    "def remove_handlers(text):\n",
    "    url = re.compile(r'''(?i)\\b((?:https?://|www\\d{0,3}[.]|[a-z0-9.\\-]+[.][a-z]{2,4}/)(?:[^\\s()<>]+|\n",
    "                    \\(([^\\s()<>]+|(\\([^\\s()<>]+\\)))*\\))+(?:\\(([^\\s()<>]+|(\\([^\\s()<>]+\\)))*\\)|[^\\s`!()\\[\\]{};:'\".,<>?«»“”‘’]))''')\n",
    "    return url.sub(r\"\", text)"
   ]
  },
  {
   "cell_type": "code",
   "execution_count": 40,
   "metadata": {},
   "outputs": [],
   "source": [
    "# aplica a função remove_handlers para o novo dataframe de treino balanceado\n",
    "new_df_treino['text'] = [remove_handlers(entry) for entry in new_df_treino['text']]"
   ]
  },
  {
   "cell_type": "code",
   "execution_count": 41,
   "metadata": {},
   "outputs": [
    {
     "data": {
      "text/html": [
       "<div>\n",
       "<style scoped>\n",
       "    .dataframe tbody tr th:only-of-type {\n",
       "        vertical-align: middle;\n",
       "    }\n",
       "\n",
       "    .dataframe tbody tr th {\n",
       "        vertical-align: top;\n",
       "    }\n",
       "\n",
       "    .dataframe thead th {\n",
       "        text-align: right;\n",
       "    }\n",
       "</style>\n",
       "<table border=\"1\" class=\"dataframe\">\n",
       "  <thead>\n",
       "    <tr style=\"text-align: right;\">\n",
       "      <th></th>\n",
       "      <th>text</th>\n",
       "      <th>labels</th>\n",
       "    </tr>\n",
       "  </thead>\n",
       "  <tbody>\n",
       "    <tr>\n",
       "      <td>0</td>\n",
       "      <td>Poucas são as mulheres que me fazem soltar um ...</td>\n",
       "      <td>0</td>\n",
       "    </tr>\n",
       "    <tr>\n",
       "      <td>1</td>\n",
       "      <td>E já tenho o meu Galaxy Star. É lindo como tudo!</td>\n",
       "      <td>0</td>\n",
       "    </tr>\n",
       "    <tr>\n",
       "      <td>2</td>\n",
       "      <td>umas ferias de 1 mes ou 2 vinham mesmo a calha...</td>\n",
       "      <td>0</td>\n",
       "    </tr>\n",
       "    <tr>\n",
       "      <td>3</td>\n",
       "      <td>@AgostinhoIsabel espero bem que sim!</td>\n",
       "      <td>0</td>\n",
       "    </tr>\n",
       "    <tr>\n",
       "      <td>4</td>\n",
       "      <td>RT @agenciabrasil: Rio distribui vacinas contr...</td>\n",
       "      <td>0</td>\n",
       "    </tr>\n",
       "  </tbody>\n",
       "</table>\n",
       "</div>"
      ],
      "text/plain": [
       "                                                text  labels\n",
       "0  Poucas são as mulheres que me fazem soltar um ...       0\n",
       "1   E já tenho o meu Galaxy Star. É lindo como tudo!       0\n",
       "2  umas ferias de 1 mes ou 2 vinham mesmo a calha...       0\n",
       "3               @AgostinhoIsabel espero bem que sim!       0\n",
       "4  RT @agenciabrasil: Rio distribui vacinas contr...       0"
      ]
     },
     "execution_count": 41,
     "metadata": {},
     "output_type": "execute_result"
    }
   ],
   "source": [
    "new_df_treino.head()"
   ]
  },
  {
   "cell_type": "markdown",
   "metadata": {},
   "source": [
    "## **4. Treino do Modelo**"
   ]
  },
  {
   "cell_type": "markdown",
   "metadata": {},
   "source": [
    "**Criação do objeto KFold para realizar o treino do modelo utilizando o cross-validation**"
   ]
  },
  {
   "cell_type": "code",
   "execution_count": null,
   "metadata": {},
   "outputs": [],
   "source": [
    "# 10 folds\n",
    "n = 10\n",
    "\n",
    "# Criação da instância do KFold para realizar o cross-validation durante o treino do modelo\n",
    "kf = KFold(n_splits=n, random_state=1, shuffle=True)"
   ]
  },
  {
   "cell_type": "markdown",
   "metadata": {},
   "source": [
    "#### **4.1. A biblioteca SimpleTransformers necessita da definição de um dicionário contendo os parâmetros utilizandos durante o treinamento. O mesmo foi definido abaixo como \"train_args**."
   ]
  },
  {
   "cell_type": "code",
   "execution_count": null,
   "metadata": {},
   "outputs": [],
   "source": [
    "# Parâmetros para treinamento\n",
    "\n",
    "train_args={\n",
    "    'reprocess_input_data': False,\n",
    "    'overwrite_output_dir': True,\n",
    "    'max_seq_length': 128,\n",
    "    'fp16': True,\n",
    "    \"train_batch_size\": 32,\n",
    "    \"eval_batch_size\": 32,\n",
    "    'gradient_accumulation_steps': 1,\n",
    "    'weight_decay': 0,\n",
    "    \"learning_rate\": 4e-05,\n",
    "    'adam_epsilon': 1e-08,\n",
    "    'num_train_epochs': 1,\n",
    "    'evaluate_during_training': True,\n",
    "    'use_multiprocessing': False,\n",
    "    'do_lower_case': False,\n",
    "    'no_cache': True,\n",
    "    'manual_seed': 1,\n",
    "    'output_dir': '/prefix_path/ciclo_01',\n",
    "    'best_model_dir':'/prefix_path/ciclo_01/modelo_vencedor',\n",
    "    'evaluate_during_training_verbose': True,\n",
    "    'save_eval_checkpoints': False,\n",
    "    'save_model_every_epoch': False,\n",
    "    'strip_accents' : True\n",
    "}"
   ]
  },
  {
   "cell_type": "markdown",
   "metadata": {},
   "source": [
    "#### **4.2. Carrega o modelo BERT pré-treinado Bertimbau da língua portuguesa.**\n",
    "\n",
    "O parâmetro \"num_labels\" indica a quantidade de labels possível, neste caso é um modelo binário.\n",
    "\n",
    "O parâmetro \"usa_cuda\" é um parâmetro booleano que define se irá utilizar ou não GPU para o treinamento."
   ]
  },
  {
   "cell_type": "code",
   "execution_count": null,
   "metadata": {},
   "outputs": [],
   "source": [
    "model = ClassificationModel('bert', '/prefix_path/BertimbauCasedFT', args=train_args, num_labels=2, use_cuda=True)"
   ]
  },
  {
   "cell_type": "markdown",
   "metadata": {},
   "source": [
    "#### **4.2. A seguir será iniciado o treino do modelo utilizando cross-validation**"
   ]
  },
  {
   "cell_type": "code",
   "execution_count": null,
   "metadata": {},
   "outputs": [],
   "source": [
    "results = []\n",
    "\n",
    "for train_index, eval_index in kf.split(new_df_treino):\n",
    "    \n",
    "    train_df = new_df_treino.iloc[train_index]\n",
    "    eval_df = new_df_treino.iloc[eval_index]\n",
    "    \n",
    "    train_df['text'] = train_df['text'].astype(str)\n",
    "    eval_df['text'] = eval_df['text'].astype(str)\n",
    "    eval_df[\"text\"] = eval_df[\"text\"].tolist() \n",
    "    \n",
    "    # train the model\n",
    "    model.train_model(train_df, eval_df=eval_df)\n",
    "    \n",
    "    # validate the model\n",
    "    result, model_outputs, wrong_predictions = model.eval_model(eval_df, \n",
    "                                                                acuracia=acc, \n",
    "                                                                precisao=pr,\n",
    "                                                                recall=rec, \n",
    "                                                                f1=f1, \n",
    "                                                                auc=auc)\n",
    "    \n",
    "    # append model score\n",
    "    results.append(result)"
   ]
  },
  {
   "cell_type": "markdown",
   "metadata": {},
   "source": [
    "## **5. Avaliação do Modelo**"
   ]
  },
  {
   "cell_type": "markdown",
   "metadata": {},
   "source": [
    "#### **5.1. Importação da base de teste para verificar a performance do modelo.**"
   ]
  },
  {
   "cell_type": "code",
   "execution_count": 31,
   "metadata": {},
   "outputs": [],
   "source": [
    "# carrega a base de treino\n",
    "df_teste = pd.read_csv(prefix_path + 'prefix_path/datasets/teste.csv', sep = ';', encoding = 'utf-8')\n",
    "\n",
    "# transforma os dados da coluna \"text\" em string\n",
    "df_teste['text'] = df_teste['text'].astype(str)\n",
    "\n",
    "# transforma as mensagens em lista.(Este é o formato aceito)\n",
    "df_teste[\"text\"] = df_teste[\"text\"].tolist() "
   ]
  },
  {
   "cell_type": "code",
   "execution_count": 32,
   "metadata": {},
   "outputs": [],
   "source": [
    "df_teste['text'] = [remove_handlers(entry) for entry in df_teste['text']]"
   ]
  },
  {
   "cell_type": "code",
   "execution_count": 33,
   "metadata": {},
   "outputs": [
    {
     "data": {
      "text/html": [
       "<div>\n",
       "<style scoped>\n",
       "    .dataframe tbody tr th:only-of-type {\n",
       "        vertical-align: middle;\n",
       "    }\n",
       "\n",
       "    .dataframe tbody tr th {\n",
       "        vertical-align: top;\n",
       "    }\n",
       "\n",
       "    .dataframe thead th {\n",
       "        text-align: right;\n",
       "    }\n",
       "</style>\n",
       "<table border=\"1\" class=\"dataframe\">\n",
       "  <thead>\n",
       "    <tr style=\"text-align: right;\">\n",
       "      <th></th>\n",
       "      <th>text</th>\n",
       "      <th>labels</th>\n",
       "    </tr>\n",
       "  </thead>\n",
       "  <tbody>\n",
       "    <tr>\n",
       "      <th>0</th>\n",
       "      <td>JA SAIU O EP. 2 DE AMERICAN HORROR STORY, XAU</td>\n",
       "      <td>0</td>\n",
       "    </tr>\n",
       "    <tr>\n",
       "      <th>1</th>\n",
       "      <td>Tenho um feitio super complicado, admito.</td>\n",
       "      <td>0</td>\n",
       "    </tr>\n",
       "    <tr>\n",
       "      <th>2</th>\n",
       "      <td>Até amanhã a todos.</td>\n",
       "      <td>1</td>\n",
       "    </tr>\n",
       "    <tr>\n",
       "      <th>3</th>\n",
       "      <td>Quanto mais estudo matematica, menos percebo d...</td>\n",
       "      <td>1</td>\n",
       "    </tr>\n",
       "    <tr>\n",
       "      <th>4</th>\n",
       "      <td>@Le_Bundaaa obrigada ^^</td>\n",
       "      <td>0</td>\n",
       "    </tr>\n",
       "  </tbody>\n",
       "</table>\n",
       "</div>"
      ],
      "text/plain": [
       "                                                text  labels\n",
       "0      JA SAIU O EP. 2 DE AMERICAN HORROR STORY, XAU       0\n",
       "1          Tenho um feitio super complicado, admito.       0\n",
       "2                                Até amanhã a todos.       1\n",
       "3  Quanto mais estudo matematica, menos percebo d...       1\n",
       "4                            @Le_Bundaaa obrigada ^^       0"
      ]
     },
     "execution_count": 33,
     "metadata": {},
     "output_type": "execute_result"
    }
   ],
   "source": [
    "df_teste.head()"
   ]
  },
  {
   "cell_type": "code",
   "execution_count": 42,
   "metadata": {},
   "outputs": [
    {
     "data": {
      "text/plain": [
       "1    7802\n",
       "0    5797\n",
       "Name: labels, dtype: int64"
      ]
     },
     "execution_count": 42,
     "metadata": {},
     "output_type": "execute_result"
    }
   ],
   "source": [
    "df_teste['labels'].value_counts()"
   ]
  },
  {
   "cell_type": "markdown",
   "metadata": {},
   "source": [
    "##### **5.2. Criando um novo dataframe de teste com as classes balanceadas**\n",
    "\n",
    "Utilizando o método groupby e aplicando uma função lambda para capturar a quantidade limitada de 5000 amostras por classe."
   ]
  },
  {
   "cell_type": "code",
   "execution_count": null,
   "metadata": {},
   "outputs": [],
   "source": [
    "n_samples = 5000\n",
    "df_teste = df_teste.groupby('labels').apply(lambda x: x.sample(n=n_samples)).reset_index(drop = True)"
   ]
  },
  {
   "cell_type": "code",
   "execution_count": 35,
   "metadata": {},
   "outputs": [],
   "source": [
    "# Carrega o modelo vencedor que obteve os melhores resultados\n",
    "modelo_vencedor = ClassificationModel('bert', '/prefix_path/ciclo_01/modelo_vencedor', args=train_args, use_cuda=True)"
   ]
  },
  {
   "cell_type": "code",
   "execution_count": 36,
   "metadata": {},
   "outputs": [
    {
     "name": "stderr",
     "output_type": "stream",
     "text": [
      "INFO:simpletransformers.classification.classification_model: Converting to features started. Cache is not used.\n"
     ]
    },
    {
     "data": {
      "application/vnd.jupyter.widget-view+json": {
       "model_id": "7264751a59df4240a8e678a1a3d8120d",
       "version_major": 2,
       "version_minor": 0
      },
      "text/plain": [
       "HBox(children=(FloatProgress(value=0.0, max=13599.0), HTML(value='')))"
      ]
     },
     "metadata": {},
     "output_type": "display_data"
    },
    {
     "name": "stdout",
     "output_type": "stream",
     "text": [
      "\n"
     ]
    },
    {
     "data": {
      "application/vnd.jupyter.widget-view+json": {
       "model_id": "88d4ba25fe1747fb89cc13acf9ee9353",
       "version_major": 2,
       "version_minor": 0
      },
      "text/plain": [
       "HBox(children=(FloatProgress(value=0.0, max=425.0), HTML(value='')))"
      ]
     },
     "metadata": {},
     "output_type": "display_data"
    },
    {
     "name": "stdout",
     "output_type": "stream",
     "text": [
      "\n"
     ]
    }
   ],
   "source": [
    "# Realiza a inferência na base de teste balanceada\n",
    "predictions, raw_outputs = modelo_vencedor.predict(df_teste[\"text\"])"
   ]
  },
  {
   "cell_type": "code",
   "execution_count": 37,
   "metadata": {},
   "outputs": [
    {
     "data": {
      "text/html": [
       "<div>\n",
       "<style scoped>\n",
       "    .dataframe tbody tr th:only-of-type {\n",
       "        vertical-align: middle;\n",
       "    }\n",
       "\n",
       "    .dataframe tbody tr th {\n",
       "        vertical-align: top;\n",
       "    }\n",
       "\n",
       "    .dataframe thead th {\n",
       "        text-align: right;\n",
       "    }\n",
       "</style>\n",
       "<table border=\"1\" class=\"dataframe\">\n",
       "  <thead>\n",
       "    <tr style=\"text-align: right;\">\n",
       "      <th></th>\n",
       "      <th>text</th>\n",
       "      <th>labels</th>\n",
       "      <th>predict</th>\n",
       "    </tr>\n",
       "  </thead>\n",
       "  <tbody>\n",
       "    <tr>\n",
       "      <th>0</th>\n",
       "      <td>JA SAIU O EP. 2 DE AMERICAN HORROR STORY, XAU</td>\n",
       "      <td>0</td>\n",
       "      <td>0</td>\n",
       "    </tr>\n",
       "    <tr>\n",
       "      <th>1</th>\n",
       "      <td>Tenho um feitio super complicado, admito.</td>\n",
       "      <td>0</td>\n",
       "      <td>0</td>\n",
       "    </tr>\n",
       "    <tr>\n",
       "      <th>2</th>\n",
       "      <td>Até amanhã a todos.</td>\n",
       "      <td>1</td>\n",
       "      <td>0</td>\n",
       "    </tr>\n",
       "    <tr>\n",
       "      <th>3</th>\n",
       "      <td>Quanto mais estudo matematica, menos percebo d...</td>\n",
       "      <td>1</td>\n",
       "      <td>1</td>\n",
       "    </tr>\n",
       "    <tr>\n",
       "      <th>4</th>\n",
       "      <td>@Le_Bundaaa obrigada ^^</td>\n",
       "      <td>0</td>\n",
       "      <td>0</td>\n",
       "    </tr>\n",
       "  </tbody>\n",
       "</table>\n",
       "</div>"
      ],
      "text/plain": [
       "                                                text  labels  predict\n",
       "0      JA SAIU O EP. 2 DE AMERICAN HORROR STORY, XAU       0        0\n",
       "1          Tenho um feitio super complicado, admito.       0        0\n",
       "2                                Até amanhã a todos.       1        0\n",
       "3  Quanto mais estudo matematica, menos percebo d...       1        1\n",
       "4                            @Le_Bundaaa obrigada ^^       0        0"
      ]
     },
     "execution_count": 37,
     "metadata": {},
     "output_type": "execute_result"
    }
   ],
   "source": [
    "# Inclui as inferências no dataframe de teste\n",
    "df_teste[\"predict\"] = pd.DataFrame(predictions) \n",
    "df_teste.head()"
   ]
  },
  {
   "cell_type": "markdown",
   "metadata": {},
   "source": [
    "##### **5.3. O método \"eval_model\" calcula métricas de acordo com as predições realizadas, verificando as colunas \"labels\" e \"predict\" do dataframe informado.**"
   ]
  },
  {
   "cell_type": "code",
   "execution_count": 38,
   "metadata": {},
   "outputs": [
    {
     "name": "stderr",
     "output_type": "stream",
     "text": [
      "INFO:simpletransformers.classification.classification_model: Converting to features started. Cache is not used.\n"
     ]
    },
    {
     "data": {
      "application/vnd.jupyter.widget-view+json": {
       "model_id": "666ac2c4be0d4aaf8c0bdbe03076f80a",
       "version_major": 2,
       "version_minor": 0
      },
      "text/plain": [
       "HBox(children=(FloatProgress(value=0.0, max=13599.0), HTML(value='')))"
      ]
     },
     "metadata": {},
     "output_type": "display_data"
    },
    {
     "name": "stdout",
     "output_type": "stream",
     "text": [
      "\n"
     ]
    },
    {
     "data": {
      "application/vnd.jupyter.widget-view+json": {
       "model_id": "e154438c23fa417f95297226eb438c34",
       "version_major": 2,
       "version_minor": 0
      },
      "text/plain": [
       "HBox(children=(FloatProgress(value=0.0, description='Running Evaluation', max=425.0, style=ProgressStyle(descr…"
      ]
     },
     "metadata": {},
     "output_type": "display_data"
    },
    {
     "name": "stderr",
     "output_type": "stream",
     "text": [
      "INFO:simpletransformers.classification.classification_model:{'mcc': 0.5089502932710943, 'tp': 5532, 'tn': 4669, 'fp': 1128, 'fn': 2270, 'acuracia': 0.7501286859327891, 'precisao': 0.8306306306306306, 'recall': 0.7090489618046655, 'f1': 0.765039413635735, 'auc': 0.7572327782975371, 'eval_loss': 1.0486787713275236}\n"
     ]
    },
    {
     "name": "stdout",
     "output_type": "stream",
     "text": [
      "\n"
     ]
    }
   ],
   "source": [
    "result, model_outputs, wrong_predictions = modelo_vencedor.eval_model(df_teste, \n",
    "                                                                      acuracia=acc, \n",
    "                                                                      precisao=pr, \n",
    "                                                                      recall=rec, \n",
    "                                                                      f1=f1, \n",
    "                                                                      auc=auc)"
   ]
  },
  {
   "cell_type": "markdown",
   "metadata": {},
   "source": [
    "#### **5.4. Visualização dos resultados utilizando a matriz de confusão**"
   ]
  },
  {
   "cell_type": "code",
   "execution_count": 39,
   "metadata": {},
   "outputs": [
    {
     "name": "stdout",
     "output_type": "stream",
     "text": [
      "[[4669 1128]\n",
      " [2270 5532]]\n"
     ]
    }
   ],
   "source": [
    "conf_matrix = confusion_matrix(df_teste[\"labels\"], df_teste[\"predict\"])\n",
    "print(conf_matrix)"
   ]
  },
  {
   "cell_type": "code",
   "execution_count": 40,
   "metadata": {},
   "outputs": [
    {
     "name": "stdout",
     "output_type": "stream",
     "text": [
      "              precision    recall  f1-score   support\n",
      "\n",
      "           0       0.81      0.67      0.73      6939\n",
      "           1       0.71      0.83      0.77      6660\n",
      "\n",
      "    accuracy                           0.75     13599\n",
      "   macro avg       0.76      0.75      0.75     13599\n",
      "weighted avg       0.76      0.75      0.75     13599\n",
      "\n"
     ]
    }
   ],
   "source": [
    "print(classification_report(df_teste[\"predict\"], df_teste[\"labels\"]))"
   ]
  },
  {
   "cell_type": "markdown",
   "metadata": {},
   "source": [
    "#### **5.5. Incrementando a matriz de confusão para facilitar a verificação dos resultados obtidos**"
   ]
  },
  {
   "cell_type": "code",
   "execution_count": 41,
   "metadata": {},
   "outputs": [
    {
     "data": {
      "image/png": "[encoded data removed]",
      "text/plain": [
       "<Figure size 432x288 with 2 Axes>"
      ]
     },
     "metadata": {
      "needs_background": "light"
     },
     "output_type": "display_data"
    }
   ],
   "source": [
    "group_names = ['True Negative','False Positive','False Negative','True Positive']\n",
    "\n",
    "group_counts = [\"{0:0.0f}\".format(value) for value in\n",
    "                conf_matrix.flatten()]\n",
    "\n",
    "group_percentages = [\"{0:.2%}\".format(value) for value in\n",
    "                     conf_matrix.flatten()/np.sum(conf_matrix)]\n",
    "\n",
    "labels = [f\"{v1}\\n\\n{v2}\\n\\n{v3}\" for v1, v2, v3 in\n",
    "          zip(group_names, group_counts, group_percentages)]\n",
    "\n",
    "labels = np.asarray(labels).reshape(2,2)\n",
    "\n",
    "sns.heatmap(conf_matrix, annot=labels, fmt='', cmap='Blues');"
   ]
  }
 ],
 "metadata": {
  "kernelspec": {
   "display_name": "Python 3",
   "language": "python",
   "name": "python3"
  },
  "language_info": {
   "codemirror_mode": {
    "name": "ipython",
    "version": 3
   },
   "file_extension": ".py",
   "mimetype": "text/x-python",
   "name": "python",
   "nbconvert_exporter": "python",
   "pygments_lexer": "ipython3",
   "version": "3.7.4"
  }
 },
 "nbformat": 4,
 "nbformat_minor": 4
}
