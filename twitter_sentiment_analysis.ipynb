{
 "cells": [
  {
   "cell_type": "markdown",
   "metadata": {},
   "source": [
    "# **1. Introdução**\n",
    "\n",
    "O objetivo deste notebook é apresentar como foi realizada a coleta dos dados (quais as origens), quais foram as etapas para o processamento dos dados, apresentação da análise exploratória e a criação de uma base de dados final que será utilizada no treinamento de um modelo de NLP (Natural Language Processing).\n",
    "\n",
    "\n",
    "**Observação**: O treinamento do modelo está no notebook train_model."
   ]
  },
  {
   "cell_type": "markdown",
   "metadata": {},
   "source": [
    "# **2. Coleta de Dados**\n",
    "\n",
    "Os dados coletados para realizar a análise e treinamento do modelo deste projeto foram capturados dos seguintes locais:\n",
    "\n",
    "* https://github.com/pauloemmilio/dataset\n",
    "\n",
    "* https://www.kaggle.com/leandrodoze/tweets-from-mgbr"
   ]
  },
  {
   "cell_type": "markdown",
   "metadata": {},
   "source": [
    "# **3. Processamento/Tratamento de Dados**\n",
    "\n",
    "A seguir serão apresentadas as etapas do pré-processamento dos dados:\n",
    "\n",
    "* Primeiramente, é necessário remover as colunas que não serão utilizadas no projeto.\n",
    "* Verificar e eliminar dados nulos ou ausentes.\n",
    "* União dos DataFrames \"TAS\" e \"MG\".\n",
    "* Criação de uma base de dados final para o treinamento posterior."
   ]
  },
  {
   "cell_type": "markdown",
   "metadata": {},
   "source": [
    "### **3.1. Importando bibliotecas**"
   ]
  },
  {
   "cell_type": "code",
   "execution_count": 1,
   "metadata": {},
   "outputs": [],
   "source": [
    "import pandas as pd\n",
    "import matplotlib.pyplot as plt\n",
    "import random\n",
    "import re\n",
    "import unicodedata"
   ]
  },
  {
   "cell_type": "markdown",
   "metadata": {},
   "source": [
    "### **3.2. Criação dos DataFrames**"
   ]
  },
  {
   "cell_type": "code",
   "execution_count": null,
   "metadata": {},
   "outputs": [],
   "source": [
    "prefix_path = '/home/lucas/sentiment-analysis/'"
   ]
  },
  {
   "cell_type": "code",
   "execution_count": null,
   "metadata": {},
   "outputs": [],
   "source": [
    "dataset_tas = pd.read_csv(prefix_path + \"datasets/Tweets_TAS.txt\", encoding='utf-8')\n",
    "dataset_mg = pd.read_csv(prefix_path + \"datasets/Tweets_Mg.csv\", encoding='utf-8')"
   ]
  },
  {
   "cell_type": "markdown",
   "metadata": {},
   "source": [
    "**Analisando o conjunto de dados \"dataset_tas\"**"
   ]
  },
  {
   "cell_type": "code",
   "execution_count": 48,
   "metadata": {},
   "outputs": [
    {
     "data": {
      "text/html": [
       "<div>\n",
       "<style scoped>\n",
       "    .dataframe tbody tr th:only-of-type {\n",
       "        vertical-align: middle;\n",
       "    }\n",
       "\n",
       "    .dataframe tbody tr th {\n",
       "        vertical-align: top;\n",
       "    }\n",
       "\n",
       "    .dataframe thead th {\n",
       "        text-align: right;\n",
       "    }\n",
       "</style>\n",
       "<table border=\"1\" class=\"dataframe\">\n",
       "  <thead>\n",
       "    <tr style=\"text-align: right;\">\n",
       "      <th></th>\n",
       "      <th>Unnamed: 0</th>\n",
       "      <th>Tweet</th>\n",
       "      <th>Sentimento</th>\n",
       "    </tr>\n",
       "  </thead>\n",
       "  <tbody>\n",
       "    <tr>\n",
       "      <td>0</td>\n",
       "      <td>0</td>\n",
       "      <td>WildCat, o robot de quatro patas que corre a 2...</td>\n",
       "      <td>Neutral</td>\n",
       "    </tr>\n",
       "    <tr>\n",
       "      <td>1</td>\n",
       "      <td>1</td>\n",
       "      <td>Parem de olhar para o meu telemovel quando est...</td>\n",
       "      <td>Positive</td>\n",
       "    </tr>\n",
       "    <tr>\n",
       "      <td>2</td>\n",
       "      <td>2</td>\n",
       "      <td>@scrismelo Porque ainda não acordaste?!</td>\n",
       "      <td>Neutral</td>\n",
       "    </tr>\n",
       "    <tr>\n",
       "      <td>3</td>\n",
       "      <td>3</td>\n",
       "      <td>@TejoPaulo boa opção!</td>\n",
       "      <td>Neutral</td>\n",
       "    </tr>\n",
       "    <tr>\n",
       "      <td>4</td>\n",
       "      <td>4</td>\n",
       "      <td>RT @joaomhenrique: O corte nas pensões de sobr...</td>\n",
       "      <td>Neutral</td>\n",
       "    </tr>\n",
       "  </tbody>\n",
       "</table>\n",
       "</div>"
      ],
      "text/plain": [
       "  Unnamed: 0                                              Tweet Sentimento\n",
       "0          0  WildCat, o robot de quatro patas que corre a 2...    Neutral\n",
       "1          1  Parem de olhar para o meu telemovel quando est...   Positive\n",
       "2          2            @scrismelo Porque ainda não acordaste?!    Neutral\n",
       "3          3                              @TejoPaulo boa opção!    Neutral\n",
       "4          4  RT @joaomhenrique: O corte nas pensões de sobr...    Neutral"
      ]
     },
     "execution_count": 48,
     "metadata": {},
     "output_type": "execute_result"
    }
   ],
   "source": [
    "dataset_tas.head()"
   ]
  },
  {
   "cell_type": "code",
   "execution_count": 49,
   "metadata": {},
   "outputs": [],
   "source": [
    "dataset_tas.drop('Unnamed: 0', axis=1, inplace=True)"
   ]
  },
  {
   "cell_type": "code",
   "execution_count": 50,
   "metadata": {},
   "outputs": [
    {
     "data": {
      "text/plain": [
       "Tweet          1\n",
       "Sentimento    13\n",
       "dtype: int64"
      ]
     },
     "execution_count": 50,
     "metadata": {},
     "output_type": "execute_result"
    }
   ],
   "source": [
    "dataset_tas.isna().sum()"
   ]
  },
  {
   "cell_type": "markdown",
   "metadata": {},
   "source": [
    "É possível verificar que existem dados nulos ou ausentes. Para isso, vamos executar o comando abaixo e na sequência vamos reinicializar os valores dos indexes que foram excluídos para evitar problemas."
   ]
  },
  {
   "cell_type": "code",
   "execution_count": 51,
   "metadata": {},
   "outputs": [
    {
     "name": "stdout",
     "output_type": "stream",
     "text": [
      "Verificando se ainda existem dados nulos ou ausentes:\n",
      "\n",
      "Tweet         0\n",
      "Sentimento    0\n",
      "dtype: int64\n"
     ]
    }
   ],
   "source": [
    "dataset_tas.dropna(inplace=True)\n",
    "dataset_tas.reset_index(drop=True, inplace=True)\n",
    "\n",
    "print(\"Verificando se ainda existem dados nulos ou ausentes:\\n\")\n",
    "print(dataset_tas.isna().sum())"
   ]
  },
  {
   "cell_type": "code",
   "execution_count": 52,
   "metadata": {},
   "outputs": [
    {
     "data": {
      "text/html": [
       "<div>\n",
       "<style scoped>\n",
       "    .dataframe tbody tr th:only-of-type {\n",
       "        vertical-align: middle;\n",
       "    }\n",
       "\n",
       "    .dataframe tbody tr th {\n",
       "        vertical-align: top;\n",
       "    }\n",
       "\n",
       "    .dataframe thead th {\n",
       "        text-align: right;\n",
       "    }\n",
       "</style>\n",
       "<table border=\"1\" class=\"dataframe\">\n",
       "  <thead>\n",
       "    <tr style=\"text-align: right;\">\n",
       "      <th></th>\n",
       "      <th>Tweet</th>\n",
       "      <th>Sentimento</th>\n",
       "    </tr>\n",
       "  </thead>\n",
       "  <tbody>\n",
       "    <tr>\n",
       "      <td>0</td>\n",
       "      <td>WildCat, o robot de quatro patas que corre a 2...</td>\n",
       "      <td>Neutral</td>\n",
       "    </tr>\n",
       "    <tr>\n",
       "      <td>1</td>\n",
       "      <td>Parem de olhar para o meu telemovel quando est...</td>\n",
       "      <td>Positive</td>\n",
       "    </tr>\n",
       "    <tr>\n",
       "      <td>2</td>\n",
       "      <td>@scrismelo Porque ainda não acordaste?!</td>\n",
       "      <td>Neutral</td>\n",
       "    </tr>\n",
       "    <tr>\n",
       "      <td>3</td>\n",
       "      <td>@TejoPaulo boa opção!</td>\n",
       "      <td>Neutral</td>\n",
       "    </tr>\n",
       "    <tr>\n",
       "      <td>4</td>\n",
       "      <td>RT @joaomhenrique: O corte nas pensões de sobr...</td>\n",
       "      <td>Neutral</td>\n",
       "    </tr>\n",
       "  </tbody>\n",
       "</table>\n",
       "</div>"
      ],
      "text/plain": [
       "                                               Tweet Sentimento\n",
       "0  WildCat, o robot de quatro patas que corre a 2...    Neutral\n",
       "1  Parem de olhar para o meu telemovel quando est...   Positive\n",
       "2            @scrismelo Porque ainda não acordaste?!    Neutral\n",
       "3                              @TejoPaulo boa opção!    Neutral\n",
       "4  RT @joaomhenrique: O corte nas pensões de sobr...    Neutral"
      ]
     },
     "execution_count": 52,
     "metadata": {},
     "output_type": "execute_result"
    }
   ],
   "source": [
    "dataset_tas.head()"
   ]
  },
  {
   "cell_type": "code",
   "execution_count": 53,
   "metadata": {},
   "outputs": [],
   "source": [
    "dataset_tas['Sentimento'].replace(to_replace=['Neutral'], value='Neutro', inplace=True)\n",
    "dataset_tas['Sentimento'].replace(to_replace=['Positive'], value='Positivo', inplace=True)\n",
    "dataset_tas['Sentimento'].replace(to_replace=['Negative'], value='Negativo', inplace=True)"
   ]
  },
  {
   "cell_type": "markdown",
   "metadata": {},
   "source": [
    "**Analisando o conjunto de dados \"dataset_mg\"**"
   ]
  },
  {
   "cell_type": "code",
   "execution_count": 54,
   "metadata": {},
   "outputs": [
    {
     "data": {
      "text/plain": [
       "Index(['Unnamed: 0', 'Created At', 'Text', 'Geo Coordinates.latitude',\n",
       "       'Geo Coordinates.longitude', 'User Location', 'Username',\n",
       "       'User Screen Name', 'Retweet Count', 'Classificacao', 'Observação',\n",
       "       'Unnamed: 10', 'Unnamed: 11', 'Unnamed: 12', 'Unnamed: 13',\n",
       "       'Unnamed: 14', 'Unnamed: 15', 'Unnamed: 16', 'Unnamed: 17',\n",
       "       'Unnamed: 18', 'Unnamed: 19', 'Unnamed: 20', 'Unnamed: 21',\n",
       "       'Unnamed: 22', 'Unnamed: 23', 'Unnamed: 24'],\n",
       "      dtype='object')"
      ]
     },
     "execution_count": 54,
     "metadata": {},
     "output_type": "execute_result"
    }
   ],
   "source": [
    "dataset_mg.columns"
   ]
  },
  {
   "cell_type": "code",
   "execution_count": 55,
   "metadata": {},
   "outputs": [],
   "source": [
    "list_column_drop = ['Unnamed: 0', 'Created At', 'Geo Coordinates.latitude',\n",
    "                   'Geo Coordinates.longitude', 'User Location', 'Username',\n",
    "                   'User Screen Name', 'Retweet Count', 'Observação',\n",
    "                   'Unnamed: 10', 'Unnamed: 11', 'Unnamed: 12', 'Unnamed: 13',\n",
    "                   'Unnamed: 14', 'Unnamed: 15', 'Unnamed: 16', 'Unnamed: 17',\n",
    "                   'Unnamed: 18', 'Unnamed: 19', 'Unnamed: 20', 'Unnamed: 21',\n",
    "                   'Unnamed: 22', 'Unnamed: 23', 'Unnamed: 24']"
   ]
  },
  {
   "cell_type": "code",
   "execution_count": 56,
   "metadata": {},
   "outputs": [],
   "source": [
    "dataset_mg.drop(list_column_drop, axis=1, inplace=True)"
   ]
  },
  {
   "cell_type": "code",
   "execution_count": 57,
   "metadata": {},
   "outputs": [
    {
     "data": {
      "text/html": [
       "<div>\n",
       "<style scoped>\n",
       "    .dataframe tbody tr th:only-of-type {\n",
       "        vertical-align: middle;\n",
       "    }\n",
       "\n",
       "    .dataframe tbody tr th {\n",
       "        vertical-align: top;\n",
       "    }\n",
       "\n",
       "    .dataframe thead th {\n",
       "        text-align: right;\n",
       "    }\n",
       "</style>\n",
       "<table border=\"1\" class=\"dataframe\">\n",
       "  <thead>\n",
       "    <tr style=\"text-align: right;\">\n",
       "      <th></th>\n",
       "      <th>Text</th>\n",
       "      <th>Classificacao</th>\n",
       "    </tr>\n",
       "  </thead>\n",
       "  <tbody>\n",
       "    <tr>\n",
       "      <td>0</td>\n",
       "      <td>���⛪ @ Catedral de Santo Antônio - Governador ...</td>\n",
       "      <td>Neutro</td>\n",
       "    </tr>\n",
       "    <tr>\n",
       "      <td>1</td>\n",
       "      <td>� @ Governador Valadares, Minas Gerais https:/...</td>\n",
       "      <td>Neutro</td>\n",
       "    </tr>\n",
       "    <tr>\n",
       "      <td>2</td>\n",
       "      <td>�� @ Governador Valadares, Minas Gerais https:...</td>\n",
       "      <td>Neutro</td>\n",
       "    </tr>\n",
       "    <tr>\n",
       "      <td>3</td>\n",
       "      <td>��� https://t.co/BnDsO34qK0</td>\n",
       "      <td>Neutro</td>\n",
       "    </tr>\n",
       "    <tr>\n",
       "      <td>4</td>\n",
       "      <td>��� PSOL vai questionar aumento de vereadores ...</td>\n",
       "      <td>Negativo</td>\n",
       "    </tr>\n",
       "  </tbody>\n",
       "</table>\n",
       "</div>"
      ],
      "text/plain": [
       "                                                Text Classificacao\n",
       "0  ���⛪ @ Catedral de Santo Antônio - Governador ...        Neutro\n",
       "1  � @ Governador Valadares, Minas Gerais https:/...        Neutro\n",
       "2  �� @ Governador Valadares, Minas Gerais https:...        Neutro\n",
       "3                        ��� https://t.co/BnDsO34qK0        Neutro\n",
       "4  ��� PSOL vai questionar aumento de vereadores ...      Negativo"
      ]
     },
     "execution_count": 57,
     "metadata": {},
     "output_type": "execute_result"
    }
   ],
   "source": [
    "dataset_mg.head()"
   ]
  },
  {
   "cell_type": "code",
   "execution_count": 58,
   "metadata": {},
   "outputs": [
    {
     "name": "stdout",
     "output_type": "stream",
     "text": [
      "Verificando se ainda existem dados nulos ou ausentes:\n",
      "\n",
      "Text             0\n",
      "Classificacao    0\n",
      "dtype: int64\n"
     ]
    }
   ],
   "source": [
    "print(\"Verificando se ainda existem dados nulos ou ausentes:\\n\")\n",
    "print(dataset_mg.isnull().sum())"
   ]
  },
  {
   "cell_type": "markdown",
   "metadata": {},
   "source": [
    "#### **Renomeando as colunas dos DataFrames TAS e MG que serão utilizadas**"
   ]
  },
  {
   "cell_type": "code",
   "execution_count": 59,
   "metadata": {},
   "outputs": [],
   "source": [
    "dataset_tas.columns = ['text', 'labels']\n",
    "dataset_mg.columns = ['text', 'labels']"
   ]
  },
  {
   "cell_type": "code",
   "execution_count": 60,
   "metadata": {},
   "outputs": [
    {
     "data": {
      "text/html": [
       "<div>\n",
       "<style scoped>\n",
       "    .dataframe tbody tr th:only-of-type {\n",
       "        vertical-align: middle;\n",
       "    }\n",
       "\n",
       "    .dataframe tbody tr th {\n",
       "        vertical-align: top;\n",
       "    }\n",
       "\n",
       "    .dataframe thead th {\n",
       "        text-align: right;\n",
       "    }\n",
       "</style>\n",
       "<table border=\"1\" class=\"dataframe\">\n",
       "  <thead>\n",
       "    <tr style=\"text-align: right;\">\n",
       "      <th></th>\n",
       "      <th>text</th>\n",
       "      <th>labels</th>\n",
       "    </tr>\n",
       "  </thead>\n",
       "  <tbody>\n",
       "    <tr>\n",
       "      <td>0</td>\n",
       "      <td>WildCat, o robot de quatro patas que corre a 2...</td>\n",
       "      <td>Neutro</td>\n",
       "    </tr>\n",
       "    <tr>\n",
       "      <td>1</td>\n",
       "      <td>Parem de olhar para o meu telemovel quando est...</td>\n",
       "      <td>Positivo</td>\n",
       "    </tr>\n",
       "    <tr>\n",
       "      <td>2</td>\n",
       "      <td>@scrismelo Porque ainda não acordaste?!</td>\n",
       "      <td>Neutro</td>\n",
       "    </tr>\n",
       "    <tr>\n",
       "      <td>3</td>\n",
       "      <td>@TejoPaulo boa opção!</td>\n",
       "      <td>Neutro</td>\n",
       "    </tr>\n",
       "    <tr>\n",
       "      <td>4</td>\n",
       "      <td>RT @joaomhenrique: O corte nas pensões de sobr...</td>\n",
       "      <td>Neutro</td>\n",
       "    </tr>\n",
       "  </tbody>\n",
       "</table>\n",
       "</div>"
      ],
      "text/plain": [
       "                                                text    labels\n",
       "0  WildCat, o robot de quatro patas que corre a 2...    Neutro\n",
       "1  Parem de olhar para o meu telemovel quando est...  Positivo\n",
       "2            @scrismelo Porque ainda não acordaste?!    Neutro\n",
       "3                              @TejoPaulo boa opção!    Neutro\n",
       "4  RT @joaomhenrique: O corte nas pensões de sobr...    Neutro"
      ]
     },
     "execution_count": 60,
     "metadata": {},
     "output_type": "execute_result"
    }
   ],
   "source": [
    "dataset_tas.head()"
   ]
  },
  {
   "cell_type": "code",
   "execution_count": 61,
   "metadata": {},
   "outputs": [
    {
     "data": {
      "text/html": [
       "<div>\n",
       "<style scoped>\n",
       "    .dataframe tbody tr th:only-of-type {\n",
       "        vertical-align: middle;\n",
       "    }\n",
       "\n",
       "    .dataframe tbody tr th {\n",
       "        vertical-align: top;\n",
       "    }\n",
       "\n",
       "    .dataframe thead th {\n",
       "        text-align: right;\n",
       "    }\n",
       "</style>\n",
       "<table border=\"1\" class=\"dataframe\">\n",
       "  <thead>\n",
       "    <tr style=\"text-align: right;\">\n",
       "      <th></th>\n",
       "      <th>text</th>\n",
       "      <th>labels</th>\n",
       "    </tr>\n",
       "  </thead>\n",
       "  <tbody>\n",
       "    <tr>\n",
       "      <td>0</td>\n",
       "      <td>���⛪ @ Catedral de Santo Antônio - Governador ...</td>\n",
       "      <td>Neutro</td>\n",
       "    </tr>\n",
       "    <tr>\n",
       "      <td>1</td>\n",
       "      <td>� @ Governador Valadares, Minas Gerais https:/...</td>\n",
       "      <td>Neutro</td>\n",
       "    </tr>\n",
       "    <tr>\n",
       "      <td>2</td>\n",
       "      <td>�� @ Governador Valadares, Minas Gerais https:...</td>\n",
       "      <td>Neutro</td>\n",
       "    </tr>\n",
       "    <tr>\n",
       "      <td>3</td>\n",
       "      <td>��� https://t.co/BnDsO34qK0</td>\n",
       "      <td>Neutro</td>\n",
       "    </tr>\n",
       "    <tr>\n",
       "      <td>4</td>\n",
       "      <td>��� PSOL vai questionar aumento de vereadores ...</td>\n",
       "      <td>Negativo</td>\n",
       "    </tr>\n",
       "  </tbody>\n",
       "</table>\n",
       "</div>"
      ],
      "text/plain": [
       "                                                text    labels\n",
       "0  ���⛪ @ Catedral de Santo Antônio - Governador ...    Neutro\n",
       "1  � @ Governador Valadares, Minas Gerais https:/...    Neutro\n",
       "2  �� @ Governador Valadares, Minas Gerais https:...    Neutro\n",
       "3                        ��� https://t.co/BnDsO34qK0    Neutro\n",
       "4  ��� PSOL vai questionar aumento de vereadores ...  Negativo"
      ]
     },
     "execution_count": 61,
     "metadata": {},
     "output_type": "execute_result"
    }
   ],
   "source": [
    "dataset_mg.head()"
   ]
  },
  {
   "cell_type": "code",
   "execution_count": 64,
   "metadata": {},
   "outputs": [
    {
     "name": "stdout",
     "output_type": "stream",
     "text": [
      "Dataset TAS: Informações:\n",
      "<class 'pandas.core.frame.DataFrame'>\n",
      "RangeIndex: 60257 entries, 0 to 60256\n",
      "Data columns (total 2 columns):\n",
      "text      60257 non-null object\n",
      "labels    60257 non-null object\n",
      "dtypes: object(2)\n",
      "memory usage: 941.6+ KB\n",
      "None\n",
      "\n",
      "Dataset MG: Informações:\n",
      "<class 'pandas.core.frame.DataFrame'>\n",
      "RangeIndex: 8199 entries, 0 to 8198\n",
      "Data columns (total 2 columns):\n",
      "text      8199 non-null object\n",
      "labels    8199 non-null object\n",
      "dtypes: object(2)\n",
      "memory usage: 128.2+ KB\n",
      "None\n"
     ]
    }
   ],
   "source": [
    "print(\"Dataset TAS: Informações:\")\n",
    "print(dataset_tas.info())\n",
    "\n",
    "print(\"\\nDataset MG: Informações:\")\n",
    "print(dataset_mg.info())"
   ]
  },
  {
   "cell_type": "markdown",
   "metadata": {},
   "source": [
    "É possível observar que temos um total de:\n",
    "* **60.270 tweets** em nosso dataset TAS; e \n",
    "* **8.199 tweets** em nosso dataset MG."
   ]
  },
  {
   "cell_type": "markdown",
   "metadata": {},
   "source": [
    "**Concatenando os DataFrames \"dataset_tas\" e \"dataset_mg\"**"
   ]
  },
  {
   "cell_type": "code",
   "execution_count": 62,
   "metadata": {},
   "outputs": [],
   "source": [
    "concat_df = (pd.concat([dataset_tas, dataset_mg], axis=0, ignore_index=True)).reset_index(drop=True)"
   ]
  },
  {
   "cell_type": "markdown",
   "metadata": {},
   "source": [
    "**Exportando o DataFrame concatenado**"
   ]
  },
  {
   "cell_type": "code",
   "execution_count": 21,
   "metadata": {},
   "outputs": [],
   "source": [
    "concat_df.to_csv(prefix_path + 'datasets/dataset_concat.csv', header=True, index=False, sep=';', encoding='utf-8')"
   ]
  },
  {
   "cell_type": "markdown",
   "metadata": {},
   "source": [
    "# **4. Análise Exploratória dos Dados (EDA)**\n",
    "\n",
    "* Verificando 5 registros aleatórios dos datasets.\n",
    "* Criação de gráficos de barra e de pizza para a análise dos datasets.\n",
    "* Analisando alguns dados \"brutos\" dos datasets."
   ]
  },
  {
   "cell_type": "code",
   "execution_count": 65,
   "metadata": {},
   "outputs": [
    {
     "data": {
      "text/html": [
       "<div>\n",
       "<style scoped>\n",
       "    .dataframe tbody tr th:only-of-type {\n",
       "        vertical-align: middle;\n",
       "    }\n",
       "\n",
       "    .dataframe tbody tr th {\n",
       "        vertical-align: top;\n",
       "    }\n",
       "\n",
       "    .dataframe thead th {\n",
       "        text-align: right;\n",
       "    }\n",
       "</style>\n",
       "<table border=\"1\" class=\"dataframe\">\n",
       "  <thead>\n",
       "    <tr style=\"text-align: right;\">\n",
       "      <th></th>\n",
       "      <th>text</th>\n",
       "      <th>labels</th>\n",
       "    </tr>\n",
       "  </thead>\n",
       "  <tbody>\n",
       "    <tr>\n",
       "      <td>45049</td>\n",
       "      <td>Governo dos Açores satisfeito com prolongame​n...</td>\n",
       "      <td>Negativo</td>\n",
       "    </tr>\n",
       "    <tr>\n",
       "      <td>18439</td>\n",
       "      <td>As pessoas dizem-me que tenho muita pinta @Bin...</td>\n",
       "      <td>Neutro</td>\n",
       "    </tr>\n",
       "    <tr>\n",
       "      <td>55951</td>\n",
       "      <td>@almaradona Estavam a dar a sua opinião de esp...</td>\n",
       "      <td>Positivo</td>\n",
       "    </tr>\n",
       "    <tr>\n",
       "      <td>21947</td>\n",
       "      <td>RT @claudiasplemos: dramas para ir para o banh...</td>\n",
       "      <td>Negativo</td>\n",
       "    </tr>\n",
       "    <tr>\n",
       "      <td>21518</td>\n",
       "      <td>RT @JadsonN_andre: Deus é fiel 🙏</td>\n",
       "      <td>Negativo</td>\n",
       "    </tr>\n",
       "  </tbody>\n",
       "</table>\n",
       "</div>"
      ],
      "text/plain": [
       "                                                    text    labels\n",
       "45049  Governo dos Açores satisfeito com prolongame​n...  Negativo\n",
       "18439  As pessoas dizem-me que tenho muita pinta @Bin...    Neutro\n",
       "55951  @almaradona Estavam a dar a sua opinião de esp...  Positivo\n",
       "21947  RT @claudiasplemos: dramas para ir para o banh...  Negativo\n",
       "21518                   RT @JadsonN_andre: Deus é fiel 🙏  Negativo"
      ]
     },
     "execution_count": 65,
     "metadata": {},
     "output_type": "execute_result"
    }
   ],
   "source": [
    "dataset_tas.sample(5)"
   ]
  },
  {
   "cell_type": "code",
   "execution_count": 66,
   "metadata": {},
   "outputs": [
    {
     "data": {
      "text/html": [
       "<div>\n",
       "<style scoped>\n",
       "    .dataframe tbody tr th:only-of-type {\n",
       "        vertical-align: middle;\n",
       "    }\n",
       "\n",
       "    .dataframe tbody tr th {\n",
       "        vertical-align: top;\n",
       "    }\n",
       "\n",
       "    .dataframe thead th {\n",
       "        text-align: right;\n",
       "    }\n",
       "</style>\n",
       "<table border=\"1\" class=\"dataframe\">\n",
       "  <thead>\n",
       "    <tr style=\"text-align: right;\">\n",
       "      <th></th>\n",
       "      <th>text</th>\n",
       "      <th>labels</th>\n",
       "    </tr>\n",
       "  </thead>\n",
       "  <tbody>\n",
       "    <tr>\n",
       "      <td>3261</td>\n",
       "      <td>RT @exame: Em calamidade financeira, governo d...</td>\n",
       "      <td>Negativo</td>\n",
       "    </tr>\n",
       "    <tr>\n",
       "      <td>5116</td>\n",
       "      <td>⭕rzil News\\n\\n�� Governo de Minas Gerais regul...</td>\n",
       "      <td>Positivo</td>\n",
       "    </tr>\n",
       "    <tr>\n",
       "      <td>8021</td>\n",
       "      <td>PM prende rapaz por vadiagem e uso de drogas n...</td>\n",
       "      <td>Positivo</td>\n",
       "    </tr>\n",
       "    <tr>\n",
       "      <td>3150</td>\n",
       "      <td>RT @Estadao: Em calamidade financeira, MG comp...</td>\n",
       "      <td>Negativo</td>\n",
       "    </tr>\n",
       "    <tr>\n",
       "      <td>1421</td>\n",
       "      <td>I'm at Giorgio Gastrô in Governador Valadares,...</td>\n",
       "      <td>Neutro</td>\n",
       "    </tr>\n",
       "  </tbody>\n",
       "</table>\n",
       "</div>"
      ],
      "text/plain": [
       "                                                   text    labels\n",
       "3261  RT @exame: Em calamidade financeira, governo d...  Negativo\n",
       "5116  ⭕rzil News\\n\\n�� Governo de Minas Gerais regul...  Positivo\n",
       "8021  PM prende rapaz por vadiagem e uso de drogas n...  Positivo\n",
       "3150  RT @Estadao: Em calamidade financeira, MG comp...  Negativo\n",
       "1421  I'm at Giorgio Gastrô in Governador Valadares,...    Neutro"
      ]
     },
     "execution_count": 66,
     "metadata": {},
     "output_type": "execute_result"
    }
   ],
   "source": [
    "dataset_mg.sample(5)"
   ]
  },
  {
   "cell_type": "code",
   "execution_count": 67,
   "metadata": {},
   "outputs": [
    {
     "data": {
      "text/plain": [
       "Index(['text', 'labels'], dtype='object')"
      ]
     },
     "execution_count": 67,
     "metadata": {},
     "output_type": "execute_result"
    }
   ],
   "source": [
    "dataset_tas.columns"
   ]
  },
  {
   "cell_type": "markdown",
   "metadata": {},
   "source": [
    "#### **4.1. Criando gráficos de barras para apresentar o número de ocorrências para cada classe nos DataFrames TAS e MG**"
   ]
  },
  {
   "cell_type": "code",
   "execution_count": 94,
   "metadata": {},
   "outputs": [
    {
     "data": {
      "image/png": "[encoded data removed]",
      "text/plain": [
       "<Figure size 432x288 with 1 Axes>"
      ]
     },
     "metadata": {
      "needs_background": "light"
     },
     "output_type": "display_data"
    },
    {
     "data": {
      "image/png": "[encoded data removed]",
      "text/plain": [
       "<Figure size 432x288 with 1 Axes>"
      ]
     },
     "metadata": {
      "needs_background": "light"
     },
     "output_type": "display_data"
    }
   ],
   "source": [
    "series_tas = dataset_tas['labels'].value_counts()\n",
    "series_mg = dataset_mg['labels'].value_counts()\n",
    "\n",
    "\n",
    "plot1 = plt.figure(1)\n",
    "series_tas = dataset_tas['labels'].value_counts()\n",
    "ax = series.plot(kind='bar', title='Número de ocorrências para cada sentimento no DataFrame TAS')\n",
    "ax.set_xlabel('Sentimento')\n",
    "ax.set_ylabel('Ocorrências')\n",
    "plt.plot()\n",
    "\n",
    "\n",
    "plot2 = plt.figure(2)\n",
    "series_mg = dataset_mg['labels'].value_counts()\n",
    "ax = series.plot(kind='bar', title='Número de ocorrências para cada sentimento no DataFrame MG')\n",
    "ax.set_xlabel('Sentimento')\n",
    "ax.set_ylabel('Ocorrências')\n",
    "\n",
    "plt.show()"
   ]
  },
  {
   "cell_type": "markdown",
   "metadata": {},
   "source": [
    "#### **4.2. Criando gráficos de pizza para apresentar o percentual de ocorrências para cada classe nos DataFrames TAS e MG**"
   ]
  },
  {
   "cell_type": "code",
   "execution_count": 97,
   "metadata": {},
   "outputs": [
    {
     "data": {
      "image/png": "[encoded data removed]",
      "text/plain": [
       "<Figure size 360x360 with 1 Axes>"
      ]
     },
     "metadata": {},
     "output_type": "display_data"
    }
   ],
   "source": [
    "# Declarando uma figura com tamanho customizado \n",
    "fig = plt.figure(figsize=(5, 5))\n",
    "\n",
    "# labels para três classes\n",
    "labels = 'Positivo', 'Negativo', 'Neutro'\n",
    "\n",
    "# Sizes for each slide\n",
    "sizes = [((dataset_tas['labels']=='Positivo')==True).sum(), ((dataset_tas['labels']=='Negativo')==True).sum(),\n",
    "        ((dataset_tas['labels']=='Neutro')==True).sum()]\n",
    "\n",
    "# Declare pie chart, where the slices will be ordered and plotted counter-clockwise:\n",
    "plt.pie(sizes, labels=labels, autopct='%1.1f%%',\n",
    "        shadow=True, startangle=90)\n",
    "\n",
    "# Equal aspect ratio ensures that pie is drawn as a circle.\n",
    "plt.axis('equal')\n",
    "\n",
    "# Display the chart\n",
    "plt.show()"
   ]
  },
  {
   "cell_type": "code",
   "execution_count": 98,
   "metadata": {},
   "outputs": [
    {
     "data": {
      "image/png": "[encoded data removed]",
      "text/plain": [
       "<Figure size 360x360 with 1 Axes>"
      ]
     },
     "metadata": {},
     "output_type": "display_data"
    }
   ],
   "source": [
    "# Declarando uma figura com tamanho customizado \n",
    "fig = plt.figure(figsize=(5, 5))\n",
    "\n",
    "# labels para três classes\n",
    "labels = 'Positivo', 'Negativo', 'Neutro'\n",
    "\n",
    "# Sizes for each slide\n",
    "sizes = [((dataset_mg['labels']=='Positivo')==True).sum(), ((dataset_mg['labels']=='Negativo')==True).sum(),\n",
    "        ((dataset_mg['labels']=='Neutro')==True).sum()]\n",
    "\n",
    "# Declare pie chart, where the slices will be ordered and plotted counter-clockwise:\n",
    "plt.pie(sizes, labels=labels, autopct='%1.1f%%',\n",
    "        shadow=True, startangle=90)\n",
    "\n",
    "# Equal aspect ratio ensures that pie is drawn as a circle.\n",
    "plt.axis('equal')\n",
    "\n",
    "# Display the chart\n",
    "plt.show()"
   ]
  },
  {
   "cell_type": "code",
   "execution_count": 77,
   "metadata": {},
   "outputs": [
    {
     "name": "stdout",
     "output_type": "stream",
     "text": [
      "@raqssousa fixe!! Sendo assim fim de semana prolongado!!!! Yeahh\n"
     ]
    }
   ],
   "source": [
    "# exibindo um tweet \"bruto\" aleatoriamente para análise exploratória\n",
    "print(dataset_tas['text'][random.randint(0, 60270)])"
   ]
  },
  {
   "cell_type": "code",
   "execution_count": 78,
   "metadata": {},
   "outputs": [
    {
     "name": "stdout",
     "output_type": "stream",
     "text": [
      "PM em Divinópolis apreende drogas e munição https://t.co/wEZbACEn0h https://t.co/YOa8ejRpX8\n"
     ]
    }
   ],
   "source": [
    "# exibindo um tweet \"bruto\" aleatoriamente para análise exploratória\n",
    "print(dataset_mg['text'][random.randint(0, 8199)])"
   ]
  },
  {
   "cell_type": "markdown",
   "metadata": {},
   "source": [
    "#### **4.3. Importando e analisando os dados do DataFrame concatenado (TAS + MG)**"
   ]
  },
  {
   "cell_type": "code",
   "execution_count": 99,
   "metadata": {},
   "outputs": [],
   "source": [
    "df = pd.read_csv(prefix_path + 'datasets/dataset_concat.csv', sep=';', encoding='utf-8')"
   ]
  },
  {
   "cell_type": "code",
   "execution_count": 100,
   "metadata": {},
   "outputs": [
    {
     "data": {
      "image/png": "[encoded data removed]",
      "text/plain": [
       "<Figure size 432x288 with 1 Axes>"
      ]
     },
     "metadata": {
      "needs_background": "light"
     },
     "output_type": "display_data"
    }
   ],
   "source": [
    "series = df['labels'].value_counts()\n",
    "ax = series.plot(kind='bar', title='Número de ocorrências para cada sentimento')\n",
    "ax.set_xlabel('Sentimento')\n",
    "ax.set_ylabel('Ocorrências')\n",
    "plt.show()"
   ]
  },
  {
   "cell_type": "code",
   "execution_count": 101,
   "metadata": {},
   "outputs": [
    {
     "data": {
      "image/png": "[encoded data removed]",
      "text/plain": [
       "<Figure size 360x360 with 1 Axes>"
      ]
     },
     "metadata": {},
     "output_type": "display_data"
    }
   ],
   "source": [
    "# Declarando uma figura com tamanho customizado \n",
    "fig = plt.figure(figsize=(5, 5))\n",
    "\n",
    "# labels para três classes\n",
    "labels = 'Positivo', 'Negativo', 'Neutro'\n",
    "\n",
    "# Sizes for each slide\n",
    "sizes = [((df['labels']=='Positivo')==True).sum(), ((df['labels']=='Negativo')==True).sum(),\n",
    "        ((df['labels']=='Neutro')==True).sum()]\n",
    "\n",
    "# Declare pie chart, where the slices will be ordered and plotted counter-clockwise:\n",
    "plt.pie(sizes, labels=labels, autopct='%1.1f%%',\n",
    "        shadow=True, startangle=90)\n",
    "\n",
    "# Equal aspect ratio ensures that pie is drawn as a circle.\n",
    "plt.axis('equal')\n",
    "\n",
    "# Display the chart\n",
    "plt.show()"
   ]
  },
  {
   "cell_type": "markdown",
   "metadata": {},
   "source": [
    "# **5. Análise dos dados coletados Twitter via Twint**"
   ]
  },
  {
   "cell_type": "markdown",
   "metadata": {},
   "source": [
    "**Observação:** O arquivo \"teste.json\" é uma amostra de dados coletados do Twitter via \"Twint\". Nessa amostra é possível verificar quais colunas existem e quais serão os pré-processamentos que deverão ser utilizados."
   ]
  },
  {
   "cell_type": "code",
   "execution_count": 12,
   "metadata": {},
   "outputs": [],
   "source": [
    "df_tweets = pd.read_json(prefix_path + \"teste.json\", lines=True)"
   ]
  },
  {
   "cell_type": "code",
   "execution_count": 13,
   "metadata": {},
   "outputs": [
    {
     "data": {
      "text/html": [
       "<div>\n",
       "<style scoped>\n",
       "    .dataframe tbody tr th:only-of-type {\n",
       "        vertical-align: middle;\n",
       "    }\n",
       "\n",
       "    .dataframe tbody tr th {\n",
       "        vertical-align: top;\n",
       "    }\n",
       "\n",
       "    .dataframe thead th {\n",
       "        text-align: right;\n",
       "    }\n",
       "</style>\n",
       "<table border=\"1\" class=\"dataframe\">\n",
       "  <thead>\n",
       "    <tr style=\"text-align: right;\">\n",
       "      <th></th>\n",
       "      <th>id</th>\n",
       "      <th>conversation_id</th>\n",
       "      <th>created_at</th>\n",
       "      <th>date</th>\n",
       "      <th>time</th>\n",
       "      <th>timezone</th>\n",
       "      <th>user_id</th>\n",
       "      <th>username</th>\n",
       "      <th>name</th>\n",
       "      <th>place</th>\n",
       "      <th>...</th>\n",
       "      <th>geo</th>\n",
       "      <th>source</th>\n",
       "      <th>user_rt_id</th>\n",
       "      <th>user_rt</th>\n",
       "      <th>retweet_id</th>\n",
       "      <th>reply_to</th>\n",
       "      <th>retweet_date</th>\n",
       "      <th>translate</th>\n",
       "      <th>trans_src</th>\n",
       "      <th>trans_dest</th>\n",
       "    </tr>\n",
       "  </thead>\n",
       "  <tbody>\n",
       "    <tr>\n",
       "      <td>0</td>\n",
       "      <td>1350976002697134084</td>\n",
       "      <td>1350976002697134080</td>\n",
       "      <td>2021-01-17 22:19:13-03:00</td>\n",
       "      <td>2021-01-17</td>\n",
       "      <td>22:19:13</td>\n",
       "      <td>-300</td>\n",
       "      <td>454273694</td>\n",
       "      <td>asvezesmanu</td>\n",
       "      <td>succubus</td>\n",
       "      <td></td>\n",
       "      <td>...</td>\n",
       "      <td></td>\n",
       "      <td></td>\n",
       "      <td></td>\n",
       "      <td></td>\n",
       "      <td></td>\n",
       "      <td>[]</td>\n",
       "      <td></td>\n",
       "      <td></td>\n",
       "      <td></td>\n",
       "      <td></td>\n",
       "    </tr>\n",
       "    <tr>\n",
       "      <td>1</td>\n",
       "      <td>1350975998544769028</td>\n",
       "      <td>1350974963516370944</td>\n",
       "      <td>2021-01-17 22:19:12-03:00</td>\n",
       "      <td>2021-01-17</td>\n",
       "      <td>22:19:12</td>\n",
       "      <td>-300</td>\n",
       "      <td>1296432351141154818</td>\n",
       "      <td>inessss944</td>\n",
       "      <td>C Ines</td>\n",
       "      <td></td>\n",
       "      <td>...</td>\n",
       "      <td></td>\n",
       "      <td></td>\n",
       "      <td></td>\n",
       "      <td></td>\n",
       "      <td></td>\n",
       "      <td>[{'screen_name': 'linaasj', 'name': 'aj', 'id'...</td>\n",
       "      <td></td>\n",
       "      <td></td>\n",
       "      <td></td>\n",
       "      <td></td>\n",
       "    </tr>\n",
       "    <tr>\n",
       "      <td>2</td>\n",
       "      <td>1350975974540791816</td>\n",
       "      <td>1350975974540791808</td>\n",
       "      <td>2021-01-17 22:19:06-03:00</td>\n",
       "      <td>2021-01-17</td>\n",
       "      <td>22:19:06</td>\n",
       "      <td>-300</td>\n",
       "      <td>786363761888288768</td>\n",
       "      <td>bellelopesx</td>\n",
       "      <td>dory DE UNA VEZ</td>\n",
       "      <td></td>\n",
       "      <td>...</td>\n",
       "      <td></td>\n",
       "      <td></td>\n",
       "      <td></td>\n",
       "      <td></td>\n",
       "      <td></td>\n",
       "      <td>[]</td>\n",
       "      <td></td>\n",
       "      <td></td>\n",
       "      <td></td>\n",
       "      <td></td>\n",
       "    </tr>\n",
       "    <tr>\n",
       "      <td>3</td>\n",
       "      <td>1350975952067686400</td>\n",
       "      <td>1350975952067686400</td>\n",
       "      <td>2021-01-17 22:19:01-03:00</td>\n",
       "      <td>2021-01-17</td>\n",
       "      <td>22:19:01</td>\n",
       "      <td>-300</td>\n",
       "      <td>52817395</td>\n",
       "      <td>gigamonster011</td>\n",
       "      <td>GigaMon$ter011</td>\n",
       "      <td></td>\n",
       "      <td>...</td>\n",
       "      <td></td>\n",
       "      <td></td>\n",
       "      <td></td>\n",
       "      <td></td>\n",
       "      <td></td>\n",
       "      <td>[]</td>\n",
       "      <td></td>\n",
       "      <td></td>\n",
       "      <td></td>\n",
       "      <td></td>\n",
       "    </tr>\n",
       "    <tr>\n",
       "      <td>4</td>\n",
       "      <td>1350975917229809666</td>\n",
       "      <td>1350975115463421952</td>\n",
       "      <td>2021-01-17 22:18:53-03:00</td>\n",
       "      <td>2021-01-17</td>\n",
       "      <td>22:18:53</td>\n",
       "      <td>-300</td>\n",
       "      <td>1119794401180553217</td>\n",
       "      <td>https__selene</td>\n",
       "      <td>⁖ฺ۟̇࣪·֗٬̤⃟ᴀʟᴇxɪᴀ,,💕</td>\n",
       "      <td></td>\n",
       "      <td>...</td>\n",
       "      <td></td>\n",
       "      <td></td>\n",
       "      <td></td>\n",
       "      <td></td>\n",
       "      <td></td>\n",
       "      <td>[{'screen_name': 'ludweeb', 'name': 'lud ⌕; 𝖼𝖾...</td>\n",
       "      <td></td>\n",
       "      <td></td>\n",
       "      <td></td>\n",
       "      <td></td>\n",
       "    </tr>\n",
       "  </tbody>\n",
       "</table>\n",
       "<p>5 rows × 36 columns</p>\n",
       "</div>"
      ],
      "text/plain": [
       "                    id      conversation_id                created_at  \\\n",
       "0  1350976002697134084  1350976002697134080 2021-01-17 22:19:13-03:00   \n",
       "1  1350975998544769028  1350974963516370944 2021-01-17 22:19:12-03:00   \n",
       "2  1350975974540791816  1350975974540791808 2021-01-17 22:19:06-03:00   \n",
       "3  1350975952067686400  1350975952067686400 2021-01-17 22:19:01-03:00   \n",
       "4  1350975917229809666  1350975115463421952 2021-01-17 22:18:53-03:00   \n",
       "\n",
       "        date      time  timezone              user_id        username  \\\n",
       "0 2021-01-17  22:19:13      -300            454273694     asvezesmanu   \n",
       "1 2021-01-17  22:19:12      -300  1296432351141154818      inessss944   \n",
       "2 2021-01-17  22:19:06      -300   786363761888288768     bellelopesx   \n",
       "3 2021-01-17  22:19:01      -300             52817395  gigamonster011   \n",
       "4 2021-01-17  22:18:53      -300  1119794401180553217   https__selene   \n",
       "\n",
       "                  name place  ... geo source user_rt_id user_rt retweet_id  \\\n",
       "0             succubus        ...                                            \n",
       "1               C Ines        ...                                            \n",
       "2      dory DE UNA VEZ        ...                                            \n",
       "3       GigaMon$ter011        ...                                            \n",
       "4  ⁖ฺ۟̇࣪·֗٬̤⃟ᴀʟᴇxɪᴀ,,💕        ...                                            \n",
       "\n",
       "                                            reply_to  retweet_date  translate  \\\n",
       "0                                                 []                            \n",
       "1  [{'screen_name': 'linaasj', 'name': 'aj', 'id'...                            \n",
       "2                                                 []                            \n",
       "3                                                 []                            \n",
       "4  [{'screen_name': 'ludweeb', 'name': 'lud ⌕; 𝖼𝖾...                            \n",
       "\n",
       "  trans_src trans_dest  \n",
       "0                       \n",
       "1                       \n",
       "2                       \n",
       "3                       \n",
       "4                       \n",
       "\n",
       "[5 rows x 36 columns]"
      ]
     },
     "execution_count": 13,
     "metadata": {},
     "output_type": "execute_result"
    }
   ],
   "source": [
    "df_tweets.head()"
   ]
  },
  {
   "cell_type": "code",
   "execution_count": 14,
   "metadata": {},
   "outputs": [
    {
     "data": {
      "text/plain": [
       "Index(['id', 'conversation_id', 'created_at', 'date', 'time', 'timezone',\n",
       "       'user_id', 'username', 'name', 'place', 'tweet', 'language', 'mentions',\n",
       "       'urls', 'photos', 'replies_count', 'retweets_count', 'likes_count',\n",
       "       'hashtags', 'cashtags', 'link', 'retweet', 'quote_url', 'video',\n",
       "       'thumbnail', 'near', 'geo', 'source', 'user_rt_id', 'user_rt',\n",
       "       'retweet_id', 'reply_to', 'retweet_date', 'translate', 'trans_src',\n",
       "       'trans_dest'],\n",
       "      dtype='object')"
      ]
     },
     "execution_count": 14,
     "metadata": {},
     "output_type": "execute_result"
    }
   ],
   "source": [
    "# Exibindo as colunas existentes no dataframe\n",
    "df_tweets.columns"
   ]
  },
  {
   "cell_type": "code",
   "execution_count": 15,
   "metadata": {},
   "outputs": [],
   "source": [
    "# Criando uma lista com as colunas que não serão utilizadas no projeto\n",
    "list_column_drop = ['id', 'conversation_id', 'created_at', 'date', 'time', 'timezone',\n",
    "                   'user_id', 'username', 'name', 'place', 'language', 'mentions',\n",
    "                   'urls', 'photos', 'replies_count', 'retweets_count', 'likes_count',\n",
    "                   'hashtags', 'cashtags', 'link', 'retweet', 'quote_url', 'video',\n",
    "                   'thumbnail', 'near', 'geo', 'source', 'user_rt_id', 'user_rt',\n",
    "                   'retweet_id', 'reply_to', 'retweet_date', 'translate', 'trans_src',\n",
    "                   'trans_dest']"
   ]
  },
  {
   "cell_type": "code",
   "execution_count": 17,
   "metadata": {},
   "outputs": [],
   "source": [
    "# excluindo as colunas desnecessárias para o projeto\n",
    "df_tweets.drop(list_column_drop, axis=1, inplace=True)"
   ]
  },
  {
   "cell_type": "code",
   "execution_count": 11,
   "metadata": {},
   "outputs": [
    {
     "data": {
      "text/html": [
       "<div>\n",
       "<style scoped>\n",
       "    .dataframe tbody tr th:only-of-type {\n",
       "        vertical-align: middle;\n",
       "    }\n",
       "\n",
       "    .dataframe tbody tr th {\n",
       "        vertical-align: top;\n",
       "    }\n",
       "\n",
       "    .dataframe thead th {\n",
       "        text-align: right;\n",
       "    }\n",
       "</style>\n",
       "<table border=\"1\" class=\"dataframe\">\n",
       "  <thead>\n",
       "    <tr style=\"text-align: right;\">\n",
       "      <th></th>\n",
       "      <th>tweet</th>\n",
       "    </tr>\n",
       "  </thead>\n",
       "  <tbody>\n",
       "    <tr>\n",
       "      <td>0</td>\n",
       "      <td>Fiz um teste de temperamento e confirmei que s...</td>\n",
       "    </tr>\n",
       "    <tr>\n",
       "      <td>1</td>\n",
       "      <td>@linaasj Faut que je teste alors je t’en dirai...</td>\n",
       "    </tr>\n",
       "    <tr>\n",
       "      <td>2</td>\n",
       "      <td>fiz o teste e fiquei bem triste, não recomendo</td>\n",
       "    </tr>\n",
       "    <tr>\n",
       "      <td>3</td>\n",
       "      <td>Fazer role e ter junto o @_andrematos é um tes...</td>\n",
       "    </tr>\n",
       "    <tr>\n",
       "      <td>4</td>\n",
       "      <td>@ludweeb Amiga eu faço mais as decorações, ess...</td>\n",
       "    </tr>\n",
       "  </tbody>\n",
       "</table>\n",
       "</div>"
      ],
      "text/plain": [
       "                                               tweet\n",
       "0  Fiz um teste de temperamento e confirmei que s...\n",
       "1  @linaasj Faut que je teste alors je t’en dirai...\n",
       "2     fiz o teste e fiquei bem triste, não recomendo\n",
       "3  Fazer role e ter junto o @_andrematos é um tes...\n",
       "4  @ludweeb Amiga eu faço mais as decorações, ess..."
      ]
     },
     "execution_count": 11,
     "metadata": {},
     "output_type": "execute_result"
    }
   ],
   "source": [
    "df_tweets.head()"
   ]
  },
  {
   "cell_type": "markdown",
   "metadata": {},
   "source": [
    "**Aplicando lowercase nos textos do dataframe e exibindo uma amostra aleatória**"
   ]
  },
  {
   "cell_type": "code",
   "execution_count": 82,
   "metadata": {},
   "outputs": [
    {
     "name": "stdout",
     "output_type": "stream",
     "text": [
      "ja devia estar a dormir porque amanha acordo cedo para ir a setubal e a alfragide, but nao ha sono\n"
     ]
    }
   ],
   "source": [
    "# Aplicando o lowercase para cada tweet do dataset\n",
    "dataset_tas['text'] = [entry.lower() for entry in dataset_tas['text']]\n",
    "\n",
    "# Verificando um registro aleatório após o lowercasing\n",
    "print(dataset_tas['text'][random.randint(0, 60270)])"
   ]
  },
  {
   "cell_type": "markdown",
   "metadata": {},
   "source": [
    "# **6. Conclusão**"
   ]
  },
  {
   "cell_type": "markdown",
   "metadata": {},
   "source": [
    "Como foi apresentado no índice \"Introdução\", este notebook tem como objetivo apresentar como a coleta, processamento, análise e por fim a geração da base de dados utilizada futuramente."
   ]
  },
  {
   "cell_type": "code",
   "execution_count": null,
   "metadata": {},
   "outputs": [],
   "source": []
  }
 ],
 "metadata": {
  "kernelspec": {
   "display_name": "Python 3",
   "language": "python",
   "name": "python3"
  },
  "language_info": {
   "codemirror_mode": {
    "name": "ipython",
    "version": 3
   },
   "file_extension": ".py",
   "mimetype": "text/x-python",
   "name": "python",
   "nbconvert_exporter": "python",
   "pygments_lexer": "ipython3",
   "version": "3.7.4"
  }
 },
 "nbformat": 4,
 "nbformat_minor": 4
}
